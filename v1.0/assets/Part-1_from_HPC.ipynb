{
 "cells": [
  {
   "cell_type": "markdown",
   "id": "08b8b5e3",
   "metadata": {},
   "source": [
    "**This notebook was creating during one session to assist people in downloading/uploading the first example data remotely**"
   ]
  },
  {
   "cell_type": "code",
   "execution_count": null,
   "id": "12a99fd1-f3f7-4c39-baea-36580e635f6f",
   "metadata": {},
   "outputs": [],
   "source": [
    "from dotenv import load_dotenv\n",
    "load_dotenv()\n",
    "import os\n",
    "import time\n",
    "import json\n",
    "from nomad_utility_workflows.utils.entries import download_entry_by_id\n",
    "from nomad_utility_workflows.utils.uploads import (\n",
    "    upload_files_to_nomad,\n",
    "    get_upload_by_id,\n",
    "    edit_upload_metadata,\n",
    "    publish_upload\n",
    ")\n",
    "from nomad_utility_workflows.utils.entries import get_entries_of_upload\n",
    "from nomad_utility_workflows.utils.datasets import create_dataset\n"
   ]
  },
  {
   "cell_type": "code",
   "execution_count": null,
   "id": "64678309",
   "metadata": {},
   "outputs": [],
   "source": [
    "upload_id = \"WWGPCK-URqGmJWkh_9tElQ\"\n",
    "entry_ids = []\n",
    "entries = get_entries_of_upload(upload_id, url='test', with_authentication=True)\n",
    "assert len(entries) == 1\n",
    "entry_ids.append(entries[0].entry_id)\n",
    "print(entry_ids)"
   ]
  },
  {
   "cell_type": "code",
   "execution_count": null,
   "id": "92e4057b-177a-4abd-be78-cd8125899389",
   "metadata": {},
   "outputs": [],
   "source": [
    "responses = []\n",
    "for i_entry, entry in enumerate(entry_ids):\n",
    "    folder_nm = f'DFT-{i_entry+1}'\n",
    "    os.makedirs(f'{folder_nm}', exist_ok=True)\n",
    "    responses.append(download_entry_by_id(entry, url='prod', zip_file_name=os.path.join(folder_nm, f'{entry}.zip')))"
   ]
  },
  {
   "cell_type": "code",
   "execution_count": null,
   "id": "9b083135",
   "metadata": {},
   "outputs": [],
   "source": [
    "# First unzip each of the downloads and rezip them into 1 zip file\n",
    "new_zip  = \"new_zip.zip\"\n",
    "upload_id = upload_files_to_nomad(filename=new_zip, url='test')\n",
    "print(f\"Upload ID: {upload_id}\")"
   ]
  }
 ],
 "metadata": {
  "kernelspec": {
   "display_name": "DPG-tutorial",
   "language": "python",
   "name": "dpg-tutorial"
  },
  "language_info": {
   "codemirror_mode": {
    "name": "ipython",
    "version": 3
   },
   "file_extension": ".py",
   "mimetype": "text/x-python",
   "name": "python",
   "nbconvert_exporter": "python",
   "pygments_lexer": "ipython3",
   "version": "3.11.11"
  }
 },
 "nbformat": 4,
 "nbformat_minor": 5
}
