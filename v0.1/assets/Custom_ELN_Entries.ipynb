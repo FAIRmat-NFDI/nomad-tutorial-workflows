{
 "cells": [
  {
   "cell_type": "code",
   "execution_count": null,
   "id": "a890eb3a-3844-4883-b83c-5a5ea6ee9cca",
   "metadata": {},
   "outputs": [],
   "source": [
    "from dotenv import load_dotenv\n",
    "load_dotenv()\n",
    "import os\n",
    "import time\n",
    "from nomad_utility_workflows.utils.uploads import (\n",
    "    upload_files_to_nomad,\n",
    "    get_upload_by_id,\n",
    "    edit_upload_metadata,\n",
    "    publish_upload\n",
    ")"
   ]
  },
  {
   "cell_type": "code",
   "execution_count": null,
   "id": "ee9b53f7-463c-4cd1-83fc-ae138595b886",
   "metadata": {},
   "outputs": [],
   "source": [
    "os.system('zip -r Custom_ELN_Entries.zip Custom_ELN_Entries/')"
   ]
  },
  {
   "cell_type": "code",
   "execution_count": null,
   "id": "e76ac304-60a7-4281-ae6d-2f65cf3b0830",
   "metadata": {},
   "outputs": [],
   "source": [
    "fnm = 'Custom_ELN_Entries.zip'\n",
    "\n",
    "# define the timing parameters\n",
    "max_wait_time = 60  # 60 seconds\n",
    "interval = 5  # 5 seconds\n",
    "\n",
    "# make the upload\n",
    "eln_entries_upload_id = upload_files_to_nomad(filename=fnm, url='test')\n",
    "\n",
    "# wait until the upload is processed successfully before continuing\n",
    "elapsed_time = 0\n",
    "while elapsed_time < max_wait_time:\n",
    "    nomad_upload = get_upload_by_id(eln_entries_upload_id, url='test')\n",
    "\n",
    "    # Check if the upload is complete\n",
    "    if nomad_upload.process_status == 'SUCCESS':\n",
    "        break\n",
    "\n",
    "    # Wait the specified interval before the next call\n",
    "    time.sleep(interval)\n",
    "    elapsed_time += interval\n",
    "else:\n",
    "    raise TimeoutError(f'Maximum wait time of {max_wait_time/60.} minutes exceeded. Upload with id {eln_entries_upload_id} is not complete.')\n",
    "\n",
    "print(eln_entries_upload_id)"
   ]
  },
  {
   "cell_type": "code",
   "execution_count": null,
   "id": "3e77244b-c60c-4be2-b82c-75389225af52",
   "metadata": {},
   "outputs": [],
   "source": [
    "dataset_id = '<your dataset id>'\n",
    "metadata_new = {'upload_name': f'Test Upload - ELN Entries', 'datasets': dataset_id}\n",
    "_ = edit_upload_metadata(eln_entries_upload_id, url='test', upload_metadata=metadata_new)\n",
    "time.sleep(10)\n",
    "nomad_upload = get_upload_by_id(eln_entries_upload_id, url='test')\n",
    "\n",
    "print(nomad_upload.process_status == 'SUCCESS')\n",
    "print(nomad_upload.process_running is False)\n"
   ]
  },
  {
   "cell_type": "code",
   "execution_count": null,
   "id": "b49227c9-cafb-4476-8790-9ec95289438e",
   "metadata": {},
   "outputs": [],
   "source": [
    "# define the timing parameters\n",
    "max_wait_time = 30  # 30 seconds\n",
    "interval = 5  # 5 seconds\n",
    "\n",
    "published_upload = publish_upload(eln_entries_upload_id, url='test')\n",
    "\n",
    "# wait until the upload is processed successfully before continuing\n",
    "elapsed_time = 0\n",
    "while elapsed_time < max_wait_time:\n",
    "    nomad_upload = get_upload_by_id(eln_entries_upload_id, url='test')\n",
    "\n",
    "    # Check if the edit upload is complete\n",
    "    if nomad_upload.process_status == 'SUCCESS':\n",
    "        break\n",
    "\n",
    "    # Wait the specified interval before the next call\n",
    "    time.sleep(interval)\n",
    "    elapsed_time += interval\n",
    "else:\n",
    "    raise TimeoutError(f'Maximum wait time of {max_wait_time/60.} minutes exceeded. Publish Upload with id {eln_entries_upload_id} is not complete.')\n"
   ]
  },
  {
   "cell_type": "code",
   "execution_count": null,
   "id": "2fd07428-5810-4699-ab61-b87da9c110f4",
   "metadata": {},
   "outputs": [],
   "source": []
  }
 ],
 "metadata": {
  "kernelspec": {
   "display_name": "DPG-tutorial",
   "language": "python",
   "name": "dpg-tutorial"
  },
  "language_info": {
   "codemirror_mode": {
    "name": "ipython",
    "version": 3
   },
   "file_extension": ".py",
   "mimetype": "text/x-python",
   "name": "python",
   "nbconvert_exporter": "python",
   "pygments_lexer": "ipython3",
   "version": "3.11.11"
  }
 },
 "nbformat": 4,
 "nbformat_minor": 5
}
