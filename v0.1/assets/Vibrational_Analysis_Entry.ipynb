{
 "cells": [
  {
   "cell_type": "code",
   "execution_count": null,
   "id": "8656b03c-1189-4e0e-9c01-65080f69a4f5",
   "metadata": {},
   "outputs": [],
   "source": [
    "from dotenv import load_dotenv\n",
    "load_dotenv()\n",
    "import os\n",
    "import time\n",
    "from nomad_utility_workflows.utils.uploads import (\n",
    "    upload_files_to_nomad,\n",
    "    get_upload_by_id,\n",
    "    edit_upload_metadata,\n",
    "    publish_upload\n",
    ")"
   ]
  },
  {
   "cell_type": "code",
   "execution_count": null,
   "id": "200af1b0-640a-4239-98f3-50597fe246ad",
   "metadata": {},
   "outputs": [],
   "source": [
    "fnm = 'vibrational-analysis-files.zip'\n",
    "\n",
    "# define the timing parameters\n",
    "max_wait_time = 60  # 60 seconds\n",
    "interval = 5  # 5 seconds\n",
    "\n",
    "# make the upload\n",
    "analysis_upload_id = upload_files_to_nomad(filename=fnm, url='test')\n",
    "\n",
    "# wait until the upload is processed successfully before continuing\n",
    "elapsed_time = 0\n",
    "while elapsed_time < max_wait_time:\n",
    "    nomad_upload = get_upload_by_id(analysis_upload_id, url='test')\n",
    "\n",
    "    # Check if the upload is complete\n",
    "    if nomad_upload.process_status == 'SUCCESS':\n",
    "        break\n",
    "\n",
    "    # Wait the specified interval before the next call\n",
    "    time.sleep(interval)\n",
    "    elapsed_time += interval\n",
    "else:\n",
    "    raise TimeoutError(f'Maximum wait time of {max_wait_time/60.} minutes exceeded. Upload with id {analysis_upload_id} is not complete.')\n",
    "\n",
    "print(analysis_upload_id)"
   ]
  },
  {
   "cell_type": "code",
   "execution_count": null,
   "id": "dd207b52-586f-4c2b-b306-15e31bfa4175",
   "metadata": {},
   "outputs": [],
   "source": [
    "dataset_id = '<your dataset id>'\n",
    "metadata_new = {'upload_name': f'Test Upload - Vibrational Analysis', 'datasets': dataset_id}\n",
    "_ = edit_upload_metadata(analysis_upload_id, url='test', upload_metadata=metadata_new)\n",
    "time.sleep(10)\n",
    "nomad_upload = get_upload_by_id(analysis_upload_id, url='test')\n",
    "\n",
    "print(nomad_upload.process_status == 'SUCCESS')\n",
    "print(nomad_upload.process_running is False)\n"
   ]
  },
  {
   "cell_type": "code",
   "execution_count": null,
   "id": "043bfbed-17ad-46b5-b8a2-36a0fdd8d4c0",
   "metadata": {},
   "outputs": [],
   "source": [
    "# define the timing parameters\n",
    "max_wait_time = 30  # 30 seconds\n",
    "interval = 5  # 5 seconds\n",
    "\n",
    "published_upload = publish_upload(analysis_upload_id, url='test')\n",
    "\n",
    "# wait until the upload is processed successfully before continuing\n",
    "elapsed_time = 0\n",
    "while elapsed_time < max_wait_time:\n",
    "    nomad_upload = get_upload_by_id(analysis_upload_id, url='test')\n",
    "\n",
    "    # Check if the edit upload is complete\n",
    "    if nomad_upload.process_status == 'SUCCESS':\n",
    "        break\n",
    "\n",
    "    # Wait the specified interval before the next call\n",
    "    time.sleep(interval)\n",
    "    elapsed_time += interval\n",
    "else:\n",
    "    raise TimeoutError(f'Maximum wait time of {max_wait_time/60.} minutes exceeded. Publish Upload with id {analysis_upload_id} is not complete.')\n"
   ]
  },
  {
   "cell_type": "code",
   "execution_count": null,
   "id": "a4fec506-249c-4703-b443-a918ca5b55e5",
   "metadata": {},
   "outputs": [],
   "source": []
  }
 ],
 "metadata": {
  "kernelspec": {
   "display_name": "DPG-tutorial",
   "language": "python",
   "name": "dpg-tutorial"
  },
  "language_info": {
   "codemirror_mode": {
    "name": "ipython",
    "version": 3
   },
   "file_extension": ".py",
   "mimetype": "text/x-python",
   "name": "python",
   "nbconvert_exporter": "python",
   "pygments_lexer": "ipython3",
   "version": "3.11.11"
  }
 },
 "nbformat": 4,
 "nbformat_minor": 5
}
