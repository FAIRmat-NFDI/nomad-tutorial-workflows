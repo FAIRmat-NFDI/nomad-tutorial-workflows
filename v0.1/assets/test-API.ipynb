{
 "cells": [
  {
   "cell_type": "code",
   "execution_count": null,
   "metadata": {},
   "outputs": [],
   "source": [
    "from dotenv import load_dotenv\n",
    "load_dotenv()\n",
    "import os\n",
    "import zipfile\n",
    "from pprint import pprint\n",
    "from nomad_utility_workflows.utils.uploads import (\n",
    "    upload_files_to_nomad,\n",
    "    get_upload_by_id,\n",
    "    delete_upload\n",
    ")\n",
    "\n",
    "def create_zip(zip_name, dir_name):\n",
    "    with zipfile.ZipFile(zip_name, 'w', zipfile.ZIP_DEFLATED) as zipf:\n",
    "        for root, dirs, files in os.walk(dir_name):\n",
    "            for file in files:\n",
    "                zipf.write(os.path.join(root, file), os.path.relpath(os.path.join(root, file), dir_name))"
   ]
  },
  {
   "cell_type": "code",
   "execution_count": null,
   "metadata": {},
   "outputs": [],
   "source": [
    "os.makedirs('Test/', exist_ok=True)\n",
    "create_zip('test.zip', 'Test/')\n",
    "test_upload_fnm = './test.zip'\n",
    "print(f'Zip Created: {os.path.isfile(test_upload_fnm)}')"
   ]
  },
  {
   "cell_type": "code",
   "execution_count": null,
   "metadata": {},
   "outputs": [],
   "source": [
    "upload_id = upload_files_to_nomad(filename=test_upload_fnm, url='test')\n",
    "print(upload_id)"
   ]
  },
  {
   "cell_type": "code",
   "execution_count": null,
   "metadata": {},
   "outputs": [],
   "source": [
    "nomad_upload = get_upload_by_id(upload_id, url='test')\n",
    "pprint(nomad_upload)\n"
   ]
  },
  {
   "cell_type": "code",
   "execution_count": null,
   "metadata": {},
   "outputs": [],
   "source": [
    "delete_upload(upload_id, url='test')"
   ]
  },
  {
   "cell_type": "code",
   "execution_count": null,
   "metadata": {},
   "outputs": [],
   "source": [
    "try:\n",
    "    get_upload_by_id(upload_id, url='test')\n",
    "except Exception:\n",
    "    print(f'Upload with upload_id={upload_id} was deleted successfully.')\n"
   ]
  }
 ],
 "metadata": {
  "kernelspec": {
   "display_name": "DPG-tutorial",
   "language": "python",
   "name": "dpg-tutorial"
  },
  "language_info": {
   "codemirror_mode": {
    "name": "ipython",
    "version": 3
   },
   "file_extension": ".py",
   "mimetype": "text/x-python",
   "name": "python",
   "nbconvert_exporter": "python",
   "pygments_lexer": "ipython3",
   "version": "3.11.11"
  }
 },
 "nbformat": 4,
 "nbformat_minor": 4
}
